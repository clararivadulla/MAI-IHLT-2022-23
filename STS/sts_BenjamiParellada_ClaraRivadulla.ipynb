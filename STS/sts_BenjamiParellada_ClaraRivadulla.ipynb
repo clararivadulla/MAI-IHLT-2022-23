{
  "cells": [
    {
      "cell_type": "markdown",
      "metadata": {
        "id": "mWuWfLra_YOC"
      },
      "source": [
        "Lexical features, semantic features and combination. Use all \n",
        "new components: such as ML, or other options from the table\n",
        "\n",
        "\n",
        "Rubric:\n",
        "\t- Bad approach: Not using feature selection -> is penalizable using hand crafted approaches\n",
        "\t\t  -((Using test set for anything, especially for selecting the model))\n",
        "\t- Explain why we use a subset of the features\n",
        "\t- Lexical features, semantic features and combination. Show results at least in feature selection.\n",
        "  "
      ]
    },
    {
      "cell_type": "code",
      "execution_count": 18,
      "metadata": {
        "id": "ldADwroS_fds"
      },
      "outputs": [],
      "source": [
        "#from google.colab import drive\n",
        "#drive.mount('/content/drive')\n",
        "#path = '/content/drive/MyDrive/IHLT/sts/' # path where the data is contained\n",
        "path = '/home/beny/Documents/MAI-projects/IHLT-project/'\n",
        "\n",
        "from code_.data_reader import data_reader\n",
        "from code_.feature_extractor import Features\n",
        "from code_.model import Models"
      ]
    },
    {
      "cell_type": "markdown",
      "metadata": {
        "id": "KoRr0_LGrEv9"
      },
      "source": [
        "# Final Project: Semantic Textual Similarity\n",
        "\n",
        "For the final project of the subject, :\n",
        "\n",
        "1. Use data set and description of task Semantic Textual Similarity in SemEval 2012.\n",
        "2. Implement some approaches to detect paraphrase using sentence similarity metrics.\n",
        "*   Explore some lexical dimensions.\n",
        "*   Explore the syntactic dimension alone.\n",
        "*   Explore the combination of both previous.\n",
        "3. Add new components at your choice (optional).\n",
        "4. Already generated word or sentence embeddings models are not allowed, such as BERT.\n",
        "5. Compare and comment the results achieved by these approaches among them and among the official results."
      ]
    },
    {
      "cell_type": "code",
      "execution_count": 19,
      "metadata": {},
      "outputs": [
        {
          "ename": "AttributeError",
          "evalue": "'Features' object has no attribute 'extract_all'",
          "output_type": "error",
          "traceback": [
            "\u001b[0;31m---------------------------------------------------------------------------\u001b[0m",
            "\u001b[0;31mAttributeError\u001b[0m                            Traceback (most recent call last)",
            "Cell \u001b[0;32mIn [19], line 2\u001b[0m\n\u001b[1;32m      1\u001b[0m x_train, x_test, y_train, y_test \u001b[38;5;241m=\u001b[39m data_reader(path)\n\u001b[0;32m----> 2\u001b[0m train_features \u001b[38;5;241m=\u001b[39m Features(x_train)\u001b[38;5;241m.\u001b[39mextract_all()\n\u001b[1;32m      3\u001b[0m test_features \u001b[38;5;241m=\u001b[39m Features(x_test)\u001b[38;5;241m.\u001b[39mextract_all()\n",
            "\u001b[0;31mAttributeError\u001b[0m: 'Features' object has no attribute 'extract_all'"
          ]
        }
      ],
      "source": [
        "x_train, x_test, y_train, y_test = data_reader(path)\n",
        "train_features = Features(x_train).extract_all()\n",
        "test_features = Features(x_test).extract_all()"
      ]
    },
    {
      "cell_type": "code",
      "execution_count": null,
      "metadata": {},
      "outputs": [],
      "source": []
    }
  ],
  "metadata": {
    "colab": {
      "provenance": []
    },
    "kernelspec": {
      "display_name": "Python 3.10.8 64-bit",
      "language": "python",
      "name": "python3"
    },
    "language_info": {
      "codemirror_mode": {
        "name": "ipython",
        "version": 3
      },
      "file_extension": ".py",
      "mimetype": "text/x-python",
      "name": "python",
      "nbconvert_exporter": "python",
      "pygments_lexer": "ipython3",
      "version": "3.10.8"
    },
    "vscode": {
      "interpreter": {
        "hash": "e7370f93d1d0cde622a1f8e1c04877d8463912d04d973331ad4851f04de6915a"
      }
    }
  },
  "nbformat": 4,
  "nbformat_minor": 0
}
